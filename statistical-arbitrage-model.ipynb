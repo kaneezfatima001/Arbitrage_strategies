{
 "cells": [
  {
   "cell_type": "markdown",
   "id": "9a3b49df",
   "metadata": {
    "papermill": {
     "duration": 0.013571,
     "end_time": "2022-03-13T22:49:11.309943",
     "exception": false,
     "start_time": "2022-03-13T22:49:11.296372",
     "status": "completed"
    },
    "tags": []
   },
   "source": [
    "# STATISTICAL ARBITRAGE MODEL (PAIR TRADING)\n",
    "An academic exposition into the Statistical Arbitrage Trading Strategy. I will cover learnings about the strategy and work with data. We explore pair trading taking related pairs.\n",
    "When to use the strategy :\n",
    "1. in the absense of Law of One Price\n",
    "2. cointegration of two time series is possible\n",
    "Assuming we do not account for the cost of transactions etc. because of which we use adjusted closing prices.\n",
    "This is what we will explore in the beginning.\n",
    "\n",
    "\n",
    "Pair of instruments considered = ETF's = EWA (Australia) and EWC (Canada)\n",
    "\n",
    "**Data Preprocessing and Visualization**\n",
    "1. Lineplot and boxplot: discovering patterns and outliers from data (reduction of noise)\n",
    "2. Cointegrated Augmented Dicky Fuller Test: To prove cointegration between the two time series'\n",
    "\n"
   ]
  },
  {
   "cell_type": "code",
   "execution_count": 1,
   "id": "dfff5338",
   "metadata": {
    "_execution_state": "idle",
    "_uuid": "051d70d956493feee0c6d64651c6a088724dca2a",
    "execution": {
     "iopub.execute_input": "2022-03-13T22:49:11.342086Z",
     "iopub.status.busy": "2022-03-13T22:49:11.340272Z",
     "iopub.status.idle": "2022-03-13T22:49:11.360163Z",
     "shell.execute_reply": "2022-03-13T22:49:11.359165Z",
     "shell.execute_reply.started": "2022-03-13T22:47:59.230424Z"
    },
    "papermill": {
     "duration": 0.036765,
     "end_time": "2022-03-13T22:49:11.360397",
     "exception": false,
     "start_time": "2022-03-13T22:49:11.323632",
     "status": "completed"
    },
    "tags": []
   },
   "outputs": [
    {
     "name": "stdout",
     "output_type": "stream",
     "text": [
      "/kaggle/input/ishares-australia-and-canada/EWA.csv\n",
      "/kaggle/input/ishares-australia-and-canada/EWC.csv\n"
     ]
    }
   ],
   "source": [
    "# This Python 3 environment comes with many helpful analytics libraries installed\n",
    "# It is defined by the kaggle/python Docker image: https://github.com/kaggle/docker-python\n",
    "# For example, here's several helpful packages to load\n",
    "\n",
    "import numpy as np # linear algebra\n",
    "import pandas as pd # data processing, CSV file I/O (e.g. pd.read_csv)\n",
    "\n",
    "# Input data files are available in the read-only \"../input/\" directory\n",
    "# For example, running this (by clicking run or pressing Shift+Enter) will list all files under the input directory\n",
    "\n",
    "import os\n",
    "for dirname, _, filenames in os.walk('/kaggle/input'):\n",
    "    for filename in filenames:\n",
    "        print(os.path.join(dirname, filename))\n",
    "\n",
    "# You can write up to 20GB to the current directory (/kaggle/working/) that gets preserved as output when you create a version using \"Save & Run All\" \n",
    "# You can also write temporary files to /kaggle/temp/, but they won't be saved outside of the current session"
   ]
  },
  {
   "cell_type": "code",
   "execution_count": 2,
   "id": "593637ec",
   "metadata": {
    "execution": {
     "iopub.execute_input": "2022-03-13T22:49:11.393054Z",
     "iopub.status.busy": "2022-03-13T22:49:11.392344Z",
     "iopub.status.idle": "2022-03-13T22:49:11.450032Z",
     "shell.execute_reply": "2022-03-13T22:49:11.450560Z",
     "shell.execute_reply.started": "2022-03-13T22:47:59.266988Z"
    },
    "papermill": {
     "duration": 0.076154,
     "end_time": "2022-03-13T22:49:11.450734",
     "exception": false,
     "start_time": "2022-03-13T22:49:11.374580",
     "status": "completed"
    },
    "tags": []
   },
   "outputs": [
    {
     "name": "stdout",
     "output_type": "stream",
     "text": [
      "<class 'pandas.core.frame.DataFrame'>\n",
      "RangeIndex: 252 entries, 0 to 251\n",
      "Data columns (total 7 columns):\n",
      " #   Column     Non-Null Count  Dtype  \n",
      "---  ------     --------------  -----  \n",
      " 0   Date       252 non-null    object \n",
      " 1   Open       252 non-null    float64\n",
      " 2   High       252 non-null    float64\n",
      " 3   Low        252 non-null    float64\n",
      " 4   Close      252 non-null    float64\n",
      " 5   Adj Close  252 non-null    float64\n",
      " 6   Volume     252 non-null    int64  \n",
      "dtypes: float64(5), int64(1), object(1)\n",
      "memory usage: 13.9+ KB\n"
     ]
    },
    {
     "data": {
      "text/html": [
       "<div>\n",
       "<style scoped>\n",
       "    .dataframe tbody tr th:only-of-type {\n",
       "        vertical-align: middle;\n",
       "    }\n",
       "\n",
       "    .dataframe tbody tr th {\n",
       "        vertical-align: top;\n",
       "    }\n",
       "\n",
       "    .dataframe thead th {\n",
       "        text-align: right;\n",
       "    }\n",
       "</style>\n",
       "<table border=\"1\" class=\"dataframe\">\n",
       "  <thead>\n",
       "    <tr style=\"text-align: right;\">\n",
       "      <th></th>\n",
       "      <th>Date</th>\n",
       "      <th>Open</th>\n",
       "      <th>High</th>\n",
       "      <th>Low</th>\n",
       "      <th>Close</th>\n",
       "      <th>Adj Close</th>\n",
       "      <th>Volume</th>\n",
       "    </tr>\n",
       "  </thead>\n",
       "  <tbody>\n",
       "    <tr>\n",
       "      <th>0</th>\n",
       "      <td>2021-02-16</td>\n",
       "      <td>25.360001</td>\n",
       "      <td>25.410000</td>\n",
       "      <td>25.260000</td>\n",
       "      <td>25.330000</td>\n",
       "      <td>24.107340</td>\n",
       "      <td>4729900</td>\n",
       "    </tr>\n",
       "    <tr>\n",
       "      <th>1</th>\n",
       "      <td>2021-02-17</td>\n",
       "      <td>25.120001</td>\n",
       "      <td>25.250000</td>\n",
       "      <td>25.020000</td>\n",
       "      <td>25.190001</td>\n",
       "      <td>23.974094</td>\n",
       "      <td>2035500</td>\n",
       "    </tr>\n",
       "    <tr>\n",
       "      <th>2</th>\n",
       "      <td>2021-02-18</td>\n",
       "      <td>25.280001</td>\n",
       "      <td>25.340000</td>\n",
       "      <td>25.120001</td>\n",
       "      <td>25.270000</td>\n",
       "      <td>24.050236</td>\n",
       "      <td>2579800</td>\n",
       "    </tr>\n",
       "    <tr>\n",
       "      <th>3</th>\n",
       "      <td>2021-02-19</td>\n",
       "      <td>25.280001</td>\n",
       "      <td>25.360001</td>\n",
       "      <td>25.230000</td>\n",
       "      <td>25.290001</td>\n",
       "      <td>24.069269</td>\n",
       "      <td>2553400</td>\n",
       "    </tr>\n",
       "    <tr>\n",
       "      <th>4</th>\n",
       "      <td>2021-02-22</td>\n",
       "      <td>25.299999</td>\n",
       "      <td>25.530001</td>\n",
       "      <td>25.270000</td>\n",
       "      <td>25.379999</td>\n",
       "      <td>24.154924</td>\n",
       "      <td>3471300</td>\n",
       "    </tr>\n",
       "  </tbody>\n",
       "</table>\n",
       "</div>"
      ],
      "text/plain": [
       "         Date       Open       High        Low      Close  Adj Close   Volume\n",
       "0  2021-02-16  25.360001  25.410000  25.260000  25.330000  24.107340  4729900\n",
       "1  2021-02-17  25.120001  25.250000  25.020000  25.190001  23.974094  2035500\n",
       "2  2021-02-18  25.280001  25.340000  25.120001  25.270000  24.050236  2579800\n",
       "3  2021-02-19  25.280001  25.360001  25.230000  25.290001  24.069269  2553400\n",
       "4  2021-02-22  25.299999  25.530001  25.270000  25.379999  24.154924  3471300"
      ]
     },
     "execution_count": 2,
     "metadata": {},
     "output_type": "execute_result"
    }
   ],
   "source": [
    "Aus_data = pd.read_csv(\"/kaggle/input/ishares-australia-and-canada/EWA.csv\")\n",
    "Can_data = pd.read_csv(\"/kaggle/input/ishares-australia-and-canada/EWC.csv\")\n",
    "Aus_data.info() # no missing values except for week ends\n",
    "Aus_data.head()"
   ]
  },
  {
   "cell_type": "code",
   "execution_count": 3,
   "id": "83220bf5",
   "metadata": {
    "execution": {
     "iopub.execute_input": "2022-03-13T22:49:11.481602Z",
     "iopub.status.busy": "2022-03-13T22:49:11.480928Z",
     "iopub.status.idle": "2022-03-13T22:49:11.501666Z",
     "shell.execute_reply": "2022-03-13T22:49:11.502475Z",
     "shell.execute_reply.started": "2022-03-13T22:47:59.327724Z"
    },
    "papermill": {
     "duration": 0.038111,
     "end_time": "2022-03-13T22:49:11.502745",
     "exception": false,
     "start_time": "2022-03-13T22:49:11.464634",
     "status": "completed"
    },
    "tags": []
   },
   "outputs": [
    {
     "name": "stdout",
     "output_type": "stream",
     "text": [
      "<class 'pandas.core.frame.DataFrame'>\n",
      "RangeIndex: 252 entries, 0 to 251\n",
      "Data columns (total 7 columns):\n",
      " #   Column     Non-Null Count  Dtype  \n",
      "---  ------     --------------  -----  \n",
      " 0   Date       252 non-null    object \n",
      " 1   Open       252 non-null    float64\n",
      " 2   High       252 non-null    float64\n",
      " 3   Low        252 non-null    float64\n",
      " 4   Close      252 non-null    float64\n",
      " 5   Adj Close  252 non-null    float64\n",
      " 6   Volume     252 non-null    int64  \n",
      "dtypes: float64(5), int64(1), object(1)\n",
      "memory usage: 13.9+ KB\n"
     ]
    },
    {
     "data": {
      "text/html": [
       "<div>\n",
       "<style scoped>\n",
       "    .dataframe tbody tr th:only-of-type {\n",
       "        vertical-align: middle;\n",
       "    }\n",
       "\n",
       "    .dataframe tbody tr th {\n",
       "        vertical-align: top;\n",
       "    }\n",
       "\n",
       "    .dataframe thead th {\n",
       "        text-align: right;\n",
       "    }\n",
       "</style>\n",
       "<table border=\"1\" class=\"dataframe\">\n",
       "  <thead>\n",
       "    <tr style=\"text-align: right;\">\n",
       "      <th></th>\n",
       "      <th>Date</th>\n",
       "      <th>Open</th>\n",
       "      <th>High</th>\n",
       "      <th>Low</th>\n",
       "      <th>Close</th>\n",
       "      <th>Adj Close</th>\n",
       "      <th>Volume</th>\n",
       "    </tr>\n",
       "  </thead>\n",
       "  <tbody>\n",
       "    <tr>\n",
       "      <th>0</th>\n",
       "      <td>2021-02-16</td>\n",
       "      <td>33.009998</td>\n",
       "      <td>33.200001</td>\n",
       "      <td>32.919998</td>\n",
       "      <td>33.029999</td>\n",
       "      <td>32.414864</td>\n",
       "      <td>1920800</td>\n",
       "    </tr>\n",
       "    <tr>\n",
       "      <th>1</th>\n",
       "      <td>2021-02-17</td>\n",
       "      <td>32.759998</td>\n",
       "      <td>32.820000</td>\n",
       "      <td>32.470001</td>\n",
       "      <td>32.790001</td>\n",
       "      <td>32.179337</td>\n",
       "      <td>2733700</td>\n",
       "    </tr>\n",
       "    <tr>\n",
       "      <th>2</th>\n",
       "      <td>2021-02-18</td>\n",
       "      <td>32.630001</td>\n",
       "      <td>32.759998</td>\n",
       "      <td>32.439999</td>\n",
       "      <td>32.700001</td>\n",
       "      <td>32.091011</td>\n",
       "      <td>2228900</td>\n",
       "    </tr>\n",
       "    <tr>\n",
       "      <th>3</th>\n",
       "      <td>2021-02-19</td>\n",
       "      <td>32.840000</td>\n",
       "      <td>33.070000</td>\n",
       "      <td>32.799999</td>\n",
       "      <td>33.040001</td>\n",
       "      <td>32.424679</td>\n",
       "      <td>1873100</td>\n",
       "    </tr>\n",
       "    <tr>\n",
       "      <th>4</th>\n",
       "      <td>2021-02-22</td>\n",
       "      <td>32.939999</td>\n",
       "      <td>33.250000</td>\n",
       "      <td>32.849998</td>\n",
       "      <td>33.119999</td>\n",
       "      <td>32.503185</td>\n",
       "      <td>2091100</td>\n",
       "    </tr>\n",
       "  </tbody>\n",
       "</table>\n",
       "</div>"
      ],
      "text/plain": [
       "         Date       Open       High        Low      Close  Adj Close   Volume\n",
       "0  2021-02-16  33.009998  33.200001  32.919998  33.029999  32.414864  1920800\n",
       "1  2021-02-17  32.759998  32.820000  32.470001  32.790001  32.179337  2733700\n",
       "2  2021-02-18  32.630001  32.759998  32.439999  32.700001  32.091011  2228900\n",
       "3  2021-02-19  32.840000  33.070000  32.799999  33.040001  32.424679  1873100\n",
       "4  2021-02-22  32.939999  33.250000  32.849998  33.119999  32.503185  2091100"
      ]
     },
     "execution_count": 3,
     "metadata": {},
     "output_type": "execute_result"
    }
   ],
   "source": [
    "Can_data.info() # no missing values except for weekends\n",
    "Can_data.head()"
   ]
  },
  {
   "cell_type": "code",
   "execution_count": 4,
   "id": "56bb1358",
   "metadata": {
    "execution": {
     "iopub.execute_input": "2022-03-13T22:49:11.538792Z",
     "iopub.status.busy": "2022-03-13T22:49:11.538066Z",
     "iopub.status.idle": "2022-03-13T22:49:14.380522Z",
     "shell.execute_reply": "2022-03-13T22:49:14.381092Z",
     "shell.execute_reply.started": "2022-03-13T22:47:59.356369Z"
    },
    "papermill": {
     "duration": 2.863194,
     "end_time": "2022-03-13T22:49:14.381268",
     "exception": false,
     "start_time": "2022-03-13T22:49:11.518074",
     "status": "completed"
    },
    "tags": []
   },
   "outputs": [
    {
     "data": {
      "image/png": "[encoded data removed]",
      "text/plain": [
       "<Figure size 360x360 with 1 Axes>"
      ]
     },
     "metadata": {
      "needs_background": "light"
     },
     "output_type": "display_data"
    }
   ],
   "source": [
    "# Taking subset of data and visualizing it as a line plot\n",
    "# doing the same for adjusted closing prices of both ETF's\n",
    "\n",
    "import seaborn as sns\n",
    "New_Aus_data = Aus_data.loc[152:252]\n",
    "g = sns.relplot(x=\"Date\", y=\"Adj Close\", kind=\"line\", data=New_Aus_data)\n",
    "g.figure.autofmt_xdate()"
   ]
  },
  {
   "cell_type": "code",
   "execution_count": 5,
   "id": "2904f480",
   "metadata": {
    "execution": {
     "iopub.execute_input": "2022-03-13T22:49:14.456300Z",
     "iopub.status.busy": "2022-03-13T22:49:14.446231Z",
     "iopub.status.idle": "2022-03-13T22:49:16.205584Z",
     "shell.execute_reply": "2022-03-13T22:49:16.205003Z",
     "shell.execute_reply.started": "2022-03-13T22:48:02.511661Z"
    },
    "papermill": {
     "duration": 1.808413,
     "end_time": "2022-03-13T22:49:16.205737",
     "exception": false,
     "start_time": "2022-03-13T22:49:14.397324",
     "status": "completed"
    },
    "tags": []
   },
   "outputs": [
    {
     "data": {
      "image/png": "[encoded data removed]",
      "text/plain": [
       "<Figure size 360x360 with 1 Axes>"
      ]
     },
     "metadata": {
      "needs_background": "light"
     },
     "output_type": "display_data"
    }
   ],
   "source": [
    "New_Can_data = Can_data.loc[152:252]\n",
    "g = sns.relplot(x=\"Date\", y=\"Adj Close\", kind=\"line\", data=New_Can_data)\n",
    "g.figure.autofmt_xdate()"
   ]
  },
  {
   "cell_type": "code",
   "execution_count": 6,
   "id": "3153dcde",
   "metadata": {
    "execution": {
     "iopub.execute_input": "2022-03-13T22:49:16.244587Z",
     "iopub.status.busy": "2022-03-13T22:49:16.243643Z",
     "iopub.status.idle": "2022-03-13T22:49:16.416373Z",
     "shell.execute_reply": "2022-03-13T22:49:16.416837Z",
     "shell.execute_reply.started": "2022-03-13T22:48:04.446645Z"
    },
    "papermill": {
     "duration": 0.193675,
     "end_time": "2022-03-13T22:49:16.417008",
     "exception": false,
     "start_time": "2022-03-13T22:49:16.223333",
     "status": "completed"
    },
    "tags": []
   },
   "outputs": [
    {
     "data": {
      "image/png": "[encoded data removed]",
      "text/plain": [
       "<Figure size 432x288 with 1 Axes>"
      ]
     },
     "metadata": {
      "needs_background": "light"
     },
     "output_type": "display_data"
    }
   ],
   "source": [
    "# EWA data shows few outliers and a left skewed graph\n",
    "\n",
    "ax = sns.boxplot(x=Aus_data[\"Adj Close\"])"
   ]
  },
  {
   "cell_type": "code",
   "execution_count": 7,
   "id": "f5fdaddd",
   "metadata": {
    "execution": {
     "iopub.execute_input": "2022-03-13T22:49:16.461810Z",
     "iopub.status.busy": "2022-03-13T22:49:16.460433Z",
     "iopub.status.idle": "2022-03-13T22:49:16.628162Z",
     "shell.execute_reply": "2022-03-13T22:49:16.627178Z",
     "shell.execute_reply.started": "2022-03-13T22:48:04.630956Z"
    },
    "papermill": {
     "duration": 0.192696,
     "end_time": "2022-03-13T22:49:16.628331",
     "exception": false,
     "start_time": "2022-03-13T22:49:16.435635",
     "status": "completed"
    },
    "tags": []
   },
   "outputs": [
    {
     "data": {
      "image/png": "[encoded data removed]",
      "text/plain": [
       "<Figure size 432x288 with 1 Axes>"
      ]
     },
     "metadata": {
      "needs_background": "light"
     },
     "output_type": "display_data"
    }
   ],
   "source": [
    "# EWC data shows greater number of outliers and a left skewed graph as well\n",
    "\n",
    "ax = sns.boxplot(x=Can_data[\"Adj Close\"])"
   ]
  },
  {
   "cell_type": "markdown",
   "id": "62e12d89",
   "metadata": {
    "papermill": {
     "duration": 0.019469,
     "end_time": "2022-03-13T22:49:16.667561",
     "exception": false,
     "start_time": "2022-03-13T22:49:16.648092",
     "status": "completed"
    },
    "tags": []
   },
   "source": [
    "The lineplots and boxplots seem to correlate with each other. Depending on the points in time for bullish and bearish signals, if we can prove a cointegration in these two time series' then we can establish a strategy to profit (using mean reversal techniques) from systematic buying and selling of ETF's. We therefore conduct the following test:\n",
    "\n",
    "# COINTEGRATED AUGMENTED DICKEY FULLER TEST\n",
    "$H_0:$ a unit root is not present in our pair of ETF's chosen\n",
    "\n",
    "$H_a:$ a unit root is present in our pair of ETF's chosen\n",
    "\n",
    "(From Wikipedia : \"In probability theory and statistics, a unit root is a feature of some stochastic processes (such as random walks) that can cause problems in statistical inference involving time series models.\""
   ]
  },
  {
   "cell_type": "code",
   "execution_count": 8,
   "id": "6e506eb7",
   "metadata": {
    "execution": {
     "iopub.execute_input": "2022-03-13T22:49:16.709473Z",
     "iopub.status.busy": "2022-03-13T22:49:16.708456Z",
     "iopub.status.idle": "2022-03-13T22:49:16.812082Z",
     "shell.execute_reply": "2022-03-13T22:49:16.811439Z",
     "shell.execute_reply.started": "2022-03-13T22:48:04.811563Z"
    },
    "papermill": {
     "duration": 0.125608,
     "end_time": "2022-03-13T22:49:16.812226",
     "exception": false,
     "start_time": "2022-03-13T22:49:16.686618",
     "status": "completed"
    },
    "tags": []
   },
   "outputs": [],
   "source": [
    "# Code taken from https://gist.github.com/jcorrius/e79c6372a24c0f402f4bcb29b0fca05b\n",
    "# Conducts (Cointegrated) Augmented Dickey Fuller unit root test\n",
    "from statsmodels.regression.linear_model import OLS\n",
    "from statsmodels.tsa.tsatools import lagmat, add_trend\n",
    "from statsmodels.tsa.adfvalues import mackinnonp\n",
    "\n",
    " \n",
    "def adf(ts, maxlag=1):\n",
    "    \"\"\"\n",
    "    Augmented Dickey-Fuller unit root test\n",
    "    \"\"\"\n",
    "    # Get the dimension of the array\n",
    "    nobs = ts.shape[0]\n",
    "         \n",
    "    # Calculate the discrete difference\n",
    "    tsdiff = np.diff(ts)\n",
    "     \n",
    "    # Create a 2d array of lags, trim invalid observations on both sides\n",
    "    tsdall = lagmat(tsdiff[:, None], maxlag, trim='both', original='in')\n",
    "    # Get dimension of the array\n",
    "    nobs = tsdall.shape[0] \n",
    "     \n",
    "    # replace 0 xdiff with level of x\n",
    "    tsdall[:, 0] = ts[-nobs - 1:-1]  \n",
    "    tsdshort = tsdiff[-nobs:]\n",
    "     \n",
    "    # Calculate the linear regression using an ordinary least squares model    \n",
    "    results = OLS(tsdshort, add_trend(tsdall[:, :maxlag + 1], 'c')).fit()\n",
    "    adfstat = results.tvalues[0]\n",
    "     \n",
    "    # Get approx p-value from a precomputed table (from stattools)\n",
    "    pvalue = mackinnonp(adfstat, 'c', N=1)\n",
    "    return pvalue\n",
    " \n",
    "def cadf(x, y):\n",
    "    \"\"\"\n",
    "    Returns the result of the Cointegrated Augmented Dickey-Fuller Test\n",
    "    \"\"\"\n",
    "    # Calculate the linear regression between the two time series\n",
    "    ols_result = OLS(x, y).fit()\n",
    "     \n",
    "    # Augmented Dickey-Fuller unit root test\n",
    "    return adf(ols_result.resid)\n"
   ]
  },
  {
   "cell_type": "code",
   "execution_count": 9,
   "id": "e0fc53bf",
   "metadata": {
    "execution": {
     "iopub.execute_input": "2022-03-13T22:49:16.853542Z",
     "iopub.status.busy": "2022-03-13T22:49:16.852917Z",
     "iopub.status.idle": "2022-03-13T22:49:16.871936Z",
     "shell.execute_reply": "2022-03-13T22:49:16.872460Z",
     "shell.execute_reply.started": "2022-03-13T22:48:04.929933Z"
    },
    "papermill": {
     "duration": 0.041168,
     "end_time": "2022-03-13T22:49:16.872640",
     "exception": false,
     "start_time": "2022-03-13T22:49:16.831472",
     "status": "completed"
    },
    "tags": []
   },
   "outputs": [
    {
     "data": {
      "text/plain": [
       "0.8136460180504417"
      ]
     },
     "execution_count": 9,
     "metadata": {},
     "output_type": "execute_result"
    }
   ],
   "source": [
    "# returning p value of cointegration test at 5% alpha\n",
    "cadf(Aus_data[\"Adj Close\"],Can_data[\"Adj Close\"])"
   ]
  },
  {
   "cell_type": "markdown",
   "id": "768c3876",
   "metadata": {
    "papermill": {
     "duration": 0.019013,
     "end_time": "2022-03-13T22:49:16.911030",
     "exception": false,
     "start_time": "2022-03-13T22:49:16.892017",
     "status": "completed"
    },
    "tags": []
   },
   "source": [
    "Since the P value > $\\alpha(5\\%)$, we fail to reject the null hypothesis and we can hence claim that the data does not provide sufficient evidence to reject our null hypothesis that a unit root is not present in our pair and hence the two time series are cointegrated. \n",
    "\n",
    "We can use this information for arbitrage purposes and hence generate alpha in the markets. The given example was taken from Ernie Chan's book and back in the days of arbitrage trading, could have been used to gain profits. \n",
    "\n",
    "This strategy has lost its sheen in recent times due to the occurrence of High Frequency Trading (HFT) due to which arbitraging opportunities have been reduced to nil.\n",
    "\n",
    "This project has taken a lot of help from the internet and is not in any sense, any kind of financial advice(as I have mentioned before it is not profitable in the competitive markets of today unless lightning fast computers even faster than computers that exist today are applied) "
   ]
  }
 ],
 "metadata": {
  "kernelspec": {
   "display_name": "Python 3",
   "language": "python",
   "name": "python3"
  },
  "language_info": {
   "codemirror_mode": {
    "name": "ipython",
    "version": 3
   },
   "file_extension": ".py",
   "mimetype": "text/x-python",
   "name": "python",
   "nbconvert_exporter": "python",
   "pygments_lexer": "ipython3",
   "version": "3.7.12"
  },
  "papermill": {
   "default_parameters": {},
   "duration": 16.317709,
   "end_time": "2022-03-13T22:49:17.639854",
   "environment_variables": {},
   "exception": null,
   "input_path": "__notebook__.ipynb",
   "output_path": "__notebook__.ipynb",
   "parameters": {},
   "start_time": "2022-03-13T22:49:01.322145",
   "version": "2.3.3"
  }
 },
 "nbformat": 4,
 "nbformat_minor": 5
}
